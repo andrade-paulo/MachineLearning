{
 "cells": [
  {
   "cell_type": "code",
   "execution_count": 1,
   "metadata": {},
   "outputs": [],
   "source": [
    "import os\n",
    "import pandas as pd"
   ]
  },
  {
   "cell_type": "code",
   "execution_count": 13,
   "metadata": {},
   "outputs": [
    {
     "data": {
      "text/html": [
       "<div>\n",
       "<style scoped>\n",
       "    .dataframe tbody tr th:only-of-type {\n",
       "        vertical-align: middle;\n",
       "    }\n",
       "\n",
       "    .dataframe tbody tr th {\n",
       "        vertical-align: top;\n",
       "    }\n",
       "\n",
       "    .dataframe thead th {\n",
       "        text-align: right;\n",
       "    }\n",
       "</style>\n",
       "<table border=\"1\" class=\"dataframe\">\n",
       "  <thead>\n",
       "    <tr style=\"text-align: right;\">\n",
       "      <th></th>\n",
       "      <th>Arquivo</th>\n",
       "      <th>% Músculo</th>\n",
       "    </tr>\n",
       "  </thead>\n",
       "  <tbody>\n",
       "    <tr>\n",
       "      <th>0</th>\n",
       "      <td>Rato1FDControle1</td>\n",
       "      <td>79.630</td>\n",
       "    </tr>\n",
       "    <tr>\n",
       "      <th>1</th>\n",
       "      <td>Rato1FDControle2</td>\n",
       "      <td>51.852</td>\n",
       "    </tr>\n",
       "    <tr>\n",
       "      <th>2</th>\n",
       "      <td>Rato1FDControle3</td>\n",
       "      <td>68.519</td>\n",
       "    </tr>\n",
       "    <tr>\n",
       "      <th>3</th>\n",
       "      <td>Rato1FDControle4</td>\n",
       "      <td>70.370</td>\n",
       "    </tr>\n",
       "    <tr>\n",
       "      <th>4</th>\n",
       "      <td>Rato1FDControle5</td>\n",
       "      <td>72.222</td>\n",
       "    </tr>\n",
       "    <tr>\n",
       "      <th>5</th>\n",
       "      <td>Rato1FDControle6</td>\n",
       "      <td>59.259</td>\n",
       "    </tr>\n",
       "    <tr>\n",
       "      <th>6</th>\n",
       "      <td>Rato1FDControle7</td>\n",
       "      <td>57.407</td>\n",
       "    </tr>\n",
       "    <tr>\n",
       "      <th>7</th>\n",
       "      <td>Rato1FDControle8</td>\n",
       "      <td>59.259</td>\n",
       "    </tr>\n",
       "    <tr>\n",
       "      <th>8</th>\n",
       "      <td>Rato1FDControle9</td>\n",
       "      <td>64.815</td>\n",
       "    </tr>\n",
       "    <tr>\n",
       "      <th>9</th>\n",
       "      <td>Rato1FDControle10</td>\n",
       "      <td>72.222</td>\n",
       "    </tr>\n",
       "  </tbody>\n",
       "</table>\n",
       "</div>"
      ],
      "text/plain": [
       "             Arquivo  % Músculo\n",
       "0   Rato1FDControle1     79.630\n",
       "1   Rato1FDControle2     51.852\n",
       "2   Rato1FDControle3     68.519\n",
       "3   Rato1FDControle4     70.370\n",
       "4   Rato1FDControle5     72.222\n",
       "5   Rato1FDControle6     59.259\n",
       "6   Rato1FDControle7     57.407\n",
       "7   Rato1FDControle8     59.259\n",
       "8   Rato1FDControle9     64.815\n",
       "9  Rato1FDControle10     72.222"
      ]
     },
     "execution_count": 13,
     "metadata": {},
     "output_type": "execute_result"
    }
   ],
   "source": [
    "labels = pd.read_csv('labels.tsv', sep='\\t', decimal=',')\n",
    "labels.drop(columns=['Qtd Músculo', 'Qtd Tec. Conjuntivo', 'Qtd Vasos', 'Observações', '% TC', '% Vasos', 'Média % Músculo', 'Média % TC'], inplace=True)\n",
    "\n",
    "labels.head(10)"
   ]
  },
  {
   "cell_type": "code",
   "execution_count": 14,
   "metadata": {},
   "outputs": [
    {
     "data": {
      "text/html": [
       "<div>\n",
       "<style scoped>\n",
       "    .dataframe tbody tr th:only-of-type {\n",
       "        vertical-align: middle;\n",
       "    }\n",
       "\n",
       "    .dataframe tbody tr th {\n",
       "        vertical-align: top;\n",
       "    }\n",
       "\n",
       "    .dataframe thead th {\n",
       "        text-align: right;\n",
       "    }\n",
       "</style>\n",
       "<table border=\"1\" class=\"dataframe\">\n",
       "  <thead>\n",
       "    <tr style=\"text-align: right;\">\n",
       "      <th></th>\n",
       "      <th>Arquivo</th>\n",
       "      <th>% Músculo</th>\n",
       "    </tr>\n",
       "  </thead>\n",
       "  <tbody>\n",
       "    <tr>\n",
       "      <th>7</th>\n",
       "      <td>Rato1FDControle8</td>\n",
       "      <td>59.259</td>\n",
       "    </tr>\n",
       "  </tbody>\n",
       "</table>\n",
       "</div>"
      ],
      "text/plain": [
       "            Arquivo  % Músculo\n",
       "7  Rato1FDControle8     59.259"
      ]
     },
     "execution_count": 14,
     "metadata": {},
     "output_type": "execute_result"
    }
   ],
   "source": [
    "# Get labels where Arquivo = Rato1FDControle8\n",
    "labels[labels['Arquivo'] == 'Rato1FDControle8']"
   ]
  },
  {
   "cell_type": "code",
   "execution_count": 16,
   "metadata": {},
   "outputs": [
    {
     "ename": "FileExistsError",
     "evalue": "[WinError 183] Não é possível criar um arquivo já existente: 'LabeledData/Rato1FDControle10.jpg' -> 'LabeledData/72_222.jpg'",
     "output_type": "error",
     "traceback": [
      "\u001b[1;31m---------------------------------------------------------------------------\u001b[0m",
      "\u001b[1;31mFileExistsError\u001b[0m                           Traceback (most recent call last)",
      "Cell \u001b[1;32mIn[16], line 10\u001b[0m\n\u001b[0;32m      8\u001b[0m \u001b[38;5;66;03m# Check if file exists\u001b[39;00m\n\u001b[0;32m      9\u001b[0m \u001b[38;5;28;01mif\u001b[39;00m os\u001b[38;5;241m.\u001b[39mpath\u001b[38;5;241m.\u001b[39mexists(\u001b[38;5;124mf\u001b[39m\u001b[38;5;124m'\u001b[39m\u001b[38;5;124mLabeledData/\u001b[39m\u001b[38;5;132;01m{\u001b[39;00mold_name\u001b[38;5;132;01m}\u001b[39;00m\u001b[38;5;124m'\u001b[39m):\n\u001b[1;32m---> 10\u001b[0m     os\u001b[38;5;241m.\u001b[39mrename(\u001b[38;5;124mf\u001b[39m\u001b[38;5;124m'\u001b[39m\u001b[38;5;124mLabeledData/\u001b[39m\u001b[38;5;132;01m{\u001b[39;00mold_name\u001b[38;5;132;01m}\u001b[39;00m\u001b[38;5;124m'\u001b[39m, \u001b[38;5;124mf\u001b[39m\u001b[38;5;124m'\u001b[39m\u001b[38;5;124mLabeledData/\u001b[39m\u001b[38;5;132;01m{\u001b[39;00mnew_name\u001b[38;5;132;01m}\u001b[39;00m\u001b[38;5;124m'\u001b[39m)\n",
      "\u001b[1;31mFileExistsError\u001b[0m: [WinError 183] Não é possível criar um arquivo já existente: 'LabeledData/Rato1FDControle10.jpg' -> 'LabeledData/72_222.jpg'"
     ]
    }
   ],
   "source": [
    "# Raname files to match the labels\n",
    "\n",
    "# Files inside /LabeledData\n",
    "\n",
    "for i, row in labels.iterrows():\n",
    "    old_name = row['Arquivo'] + '.jpg'\n",
    "    new_name = str(row['% Músculo']).replace('.', '_') + '.jpg'\n",
    "    # Check if file exists\n",
    "    if os.path.exists(f'LabeledData/{old_name}'):\n",
    "        os.rename(f'LabeledData/{old_name}', f'LabeledData/{new_name}')"
   ]
  },
  {
   "cell_type": "code",
   "execution_count": 2,
   "metadata": {},
   "outputs": [],
   "source": [
    "# Read file names at /training and store in a list\n",
    "training_files = os.listdir('training')\n",
    "\n",
    "# Write list inside training/images.txt\n",
    "with open('training/images.txt', 'w') as f:\n",
    "    for item in training_files:\n",
    "        f.write(\"%s\\n\" % item)"
   ]
  },
  {
   "cell_type": "code",
   "execution_count": null,
   "metadata": {},
   "outputs": [],
   "source": []
  }
 ],
 "metadata": {
  "kernelspec": {
   "display_name": "Python 3",
   "language": "python",
   "name": "python3"
  },
  "language_info": {
   "codemirror_mode": {
    "name": "ipython",
    "version": 3
   },
   "file_extension": ".py",
   "mimetype": "text/x-python",
   "name": "python",
   "nbconvert_exporter": "python",
   "pygments_lexer": "ipython3",
   "version": "3.11.9"
  }
 },
 "nbformat": 4,
 "nbformat_minor": 2
}
