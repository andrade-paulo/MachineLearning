{
 "cells": [
  {
   "cell_type": "code",
   "execution_count": 1,
   "metadata": {},
   "outputs": [
    {
     "name": "stdout",
     "output_type": "stream",
     "text": [
      "2.05\n",
      "4.05\n"
     ]
    }
   ],
   "source": [
    "import pandas as pd\n",
    "from sklearn.datasets import load_iris\n",
    "\n",
    "data = load_iris()\n",
    "df = pd.DataFrame(data=data.data, columns=data.feature_names)\n",
    "df['target'] = pd.Series(data.target)\n",
    "\n",
    "without_outliers = df.copy()\n",
    "\n",
    "q1 = without_outliers['sepal width (cm)'].quantile(0.25)\n",
    "q3 = without_outliers['sepal width (cm)'].quantile(0.75)\n",
    "iqr = q3-q1\n",
    "lLim = q1 - 1.5 * iqr\n",
    "hLim = q3 + 1.5 * iqr\n",
    "print(lLim)\n",
    "print(hLim)\n",
    "\n",
    "without_outliers.loc[without_outliers['sepal width (cm)'] < lLim, 'sepal width (cm)'] = lLim\n",
    "without_outliers.loc[without_outliers['sepal width (cm)'] > hLim, 'sepal width (cm)'] = hLim\n",
    "\n",
    "data = without_outliers[['sepal length (cm)', 'sepal width (cm)', 'petal length (cm)', 'petal width (cm)']]\n",
    "target = without_outliers['target']"
   ]
  },
  {
   "cell_type": "code",
   "execution_count": 2,
   "metadata": {},
   "outputs": [],
   "source": [
    "from sklearn.model_selection import train_test_split\n",
    "\n",
    "X_train, X_test, y_train, y_test = train_test_split(data, target, test_size=0.25)"
   ]
  },
  {
   "cell_type": "code",
   "execution_count": 3,
   "metadata": {},
   "outputs": [
    {
     "data": {
      "text/plain": [
       "array([[6.9 , 3.1 , 5.4 , 2.1 ],\n",
       "       [6.7 , 3.3 , 5.7 , 2.1 ],\n",
       "       [4.9 , 3.1 , 1.5 , 0.1 ],\n",
       "       [6.7 , 3.  , 5.  , 1.7 ],\n",
       "       [6.2 , 2.2 , 4.5 , 1.5 ],\n",
       "       [6.6 , 2.9 , 4.6 , 1.3 ],\n",
       "       [5.2 , 3.4 , 1.4 , 0.2 ],\n",
       "       [6.2 , 2.9 , 4.3 , 1.3 ],\n",
       "       [5.7 , 2.8 , 4.1 , 1.3 ],\n",
       "       [4.8 , 3.4 , 1.9 , 0.2 ],\n",
       "       [6.3 , 2.5 , 4.9 , 1.5 ],\n",
       "       [5.  , 3.4 , 1.6 , 0.4 ],\n",
       "       [4.4 , 3.  , 1.3 , 0.2 ],\n",
       "       [6.3 , 2.3 , 4.4 , 1.3 ],\n",
       "       [5.  , 3.6 , 1.4 , 0.2 ],\n",
       "       [6.  , 2.9 , 4.5 , 1.5 ],\n",
       "       [7.  , 3.2 , 4.7 , 1.4 ],\n",
       "       [6.8 , 3.  , 5.5 , 2.1 ],\n",
       "       [5.8 , 2.8 , 5.1 , 2.4 ],\n",
       "       [5.5 , 2.4 , 3.8 , 1.1 ],\n",
       "       [6.4 , 2.7 , 5.3 , 1.9 ],\n",
       "       [4.6 , 3.6 , 1.  , 0.2 ],\n",
       "       [6.1 , 2.8 , 4.  , 1.3 ],\n",
       "       [4.4 , 2.9 , 1.4 , 0.2 ],\n",
       "       [6.3 , 2.8 , 5.1 , 1.5 ],\n",
       "       [6.1 , 2.9 , 4.7 , 1.4 ],\n",
       "       [5.7 , 2.9 , 4.2 , 1.3 ],\n",
       "       [4.7 , 3.2 , 1.6 , 0.2 ],\n",
       "       [5.8 , 2.7 , 4.1 , 1.  ],\n",
       "       [4.3 , 3.  , 1.1 , 0.1 ],\n",
       "       [5.1 , 3.8 , 1.9 , 0.4 ],\n",
       "       [5.6 , 2.9 , 3.6 , 1.3 ],\n",
       "       [7.7 , 3.8 , 6.7 , 2.2 ],\n",
       "       [5.9 , 3.  , 5.1 , 1.8 ],\n",
       "       [6.  , 2.7 , 5.1 , 1.6 ],\n",
       "       [5.4 , 3.4 , 1.5 , 0.4 ],\n",
       "       [5.8 , 2.7 , 3.9 , 1.2 ],\n",
       "       [4.8 , 3.4 , 1.6 , 0.2 ],\n",
       "       [5.4 , 3.9 , 1.7 , 0.4 ],\n",
       "       [6.9 , 3.1 , 4.9 , 1.5 ],\n",
       "       [6.3 , 2.7 , 4.9 , 1.8 ],\n",
       "       [6.8 , 2.8 , 4.8 , 1.4 ],\n",
       "       [7.2 , 3.6 , 6.1 , 2.5 ],\n",
       "       [5.1 , 3.7 , 1.5 , 0.4 ],\n",
       "       [4.6 , 3.1 , 1.5 , 0.2 ],\n",
       "       [5.1 , 3.8 , 1.5 , 0.3 ],\n",
       "       [5.  , 2.05, 3.5 , 1.  ],\n",
       "       [5.9 , 3.  , 4.2 , 1.5 ],\n",
       "       [6.7 , 2.5 , 5.8 , 1.8 ],\n",
       "       [6.2 , 3.4 , 5.4 , 2.3 ],\n",
       "       [4.6 , 3.4 , 1.4 , 0.3 ],\n",
       "       [5.  , 3.3 , 1.4 , 0.2 ],\n",
       "       [4.9 , 3.1 , 1.5 , 0.2 ],\n",
       "       [5.1 , 3.5 , 1.4 , 0.3 ],\n",
       "       [6.4 , 3.2 , 4.5 , 1.5 ],\n",
       "       [7.4 , 2.8 , 6.1 , 1.9 ],\n",
       "       [5.  , 3.4 , 1.5 , 0.2 ],\n",
       "       [6.3 , 3.3 , 6.  , 2.5 ],\n",
       "       [6.  , 2.2 , 4.  , 1.  ],\n",
       "       [7.3 , 2.9 , 6.3 , 1.8 ],\n",
       "       [5.8 , 2.6 , 4.  , 1.2 ],\n",
       "       [5.1 , 3.3 , 1.7 , 0.5 ],\n",
       "       [5.5 , 2.6 , 4.4 , 1.2 ],\n",
       "       [5.  , 3.2 , 1.2 , 0.2 ],\n",
       "       [5.3 , 3.7 , 1.5 , 0.2 ],\n",
       "       [5.  , 2.3 , 3.3 , 1.  ],\n",
       "       [4.9 , 2.5 , 4.5 , 1.7 ],\n",
       "       [5.8 , 2.7 , 5.1 , 1.9 ],\n",
       "       [6.5 , 2.8 , 4.6 , 1.5 ],\n",
       "       [6.1 , 2.6 , 5.6 , 1.4 ],\n",
       "       [6.5 , 3.  , 5.2 , 2.  ],\n",
       "       [7.2 , 3.2 , 6.  , 1.8 ],\n",
       "       [7.6 , 3.  , 6.6 , 2.1 ],\n",
       "       [5.5 , 3.5 , 1.3 , 0.2 ],\n",
       "       [5.6 , 2.7 , 4.2 , 1.3 ],\n",
       "       [6.1 , 3.  , 4.6 , 1.4 ],\n",
       "       [7.7 , 3.  , 6.1 , 2.3 ],\n",
       "       [5.6 , 2.8 , 4.9 , 2.  ],\n",
       "       [4.4 , 3.2 , 1.3 , 0.2 ],\n",
       "       [5.1 , 3.4 , 1.5 , 0.2 ],\n",
       "       [5.2 , 3.5 , 1.5 , 0.2 ],\n",
       "       [5.4 , 3.4 , 1.7 , 0.2 ],\n",
       "       [4.8 , 3.  , 1.4 , 0.1 ],\n",
       "       [4.9 , 3.6 , 1.4 , 0.1 ],\n",
       "       [6.4 , 2.9 , 4.3 , 1.3 ],\n",
       "       [5.7 , 2.8 , 4.5 , 1.3 ],\n",
       "       [5.4 , 3.  , 4.5 , 1.5 ],\n",
       "       [5.6 , 3.  , 4.1 , 1.3 ],\n",
       "       [6.3 , 2.9 , 5.6 , 1.8 ],\n",
       "       [6.4 , 2.8 , 5.6 , 2.2 ],\n",
       "       [6.7 , 3.  , 5.2 , 2.3 ],\n",
       "       [5.6 , 2.5 , 3.9 , 1.1 ],\n",
       "       [5.7 , 2.5 , 5.  , 2.  ],\n",
       "       [5.2 , 2.7 , 3.9 , 1.4 ],\n",
       "       [6.3 , 3.4 , 5.6 , 2.4 ],\n",
       "       [7.7 , 2.6 , 6.9 , 2.3 ],\n",
       "       [7.2 , 3.  , 5.8 , 1.6 ],\n",
       "       [5.8 , 4.  , 1.2 , 0.2 ],\n",
       "       [6.9 , 3.1 , 5.1 , 2.3 ],\n",
       "       [5.7 , 4.05, 1.5 , 0.4 ],\n",
       "       [6.4 , 3.2 , 5.3 , 2.3 ],\n",
       "       [5.1 , 3.5 , 1.4 , 0.2 ],\n",
       "       [5.1 , 3.8 , 1.6 , 0.2 ],\n",
       "       [6.5 , 3.2 , 5.1 , 2.  ],\n",
       "       [6.7 , 3.1 , 4.4 , 1.4 ],\n",
       "       [6.8 , 3.2 , 5.9 , 2.3 ],\n",
       "       [6.7 , 3.3 , 5.7 , 2.5 ],\n",
       "       [6.9 , 3.2 , 5.7 , 2.3 ],\n",
       "       [5.2 , 4.05, 1.5 , 0.1 ],\n",
       "       [4.8 , 3.  , 1.4 , 0.3 ],\n",
       "       [6.  , 3.4 , 4.5 , 1.6 ],\n",
       "       [5.7 , 3.  , 4.2 , 1.2 ]])"
      ]
     },
     "execution_count": 3,
     "metadata": {},
     "output_type": "execute_result"
    }
   ],
   "source": [
    "import numpy as np\n",
    "np.array(X_train)"
   ]
  },
  {
   "cell_type": "code",
   "execution_count": 22,
   "metadata": {},
   "outputs": [],
   "source": [
    "from knn import KNN\n",
    "\n",
    "knn = KNN(7)\n",
    "knn.fit(X_train, y_train)\n",
    "\n",
    "predictions = knn.predict(X_test)"
   ]
  },
  {
   "cell_type": "code",
   "execution_count": 23,
   "metadata": {},
   "outputs": [
    {
     "name": "stdout",
     "output_type": "stream",
     "text": [
      "0.9736842105263158\n"
     ]
    }
   ],
   "source": [
    "from sklearn.metrics import accuracy_score\n",
    "\n",
    "print(accuracy_score(y_test, predictions))"
   ]
  },
  {
   "cell_type": "code",
   "execution_count": null,
   "metadata": {},
   "outputs": [],
   "source": []
  }
 ],
 "metadata": {
  "kernelspec": {
   "display_name": "Python 3",
   "language": "python",
   "name": "python3"
  },
  "language_info": {
   "codemirror_mode": {
    "name": "ipython",
    "version": 3
   },
   "file_extension": ".py",
   "mimetype": "text/x-python",
   "name": "python",
   "nbconvert_exporter": "python",
   "pygments_lexer": "ipython3",
   "version": "3.11.9"
  }
 },
 "nbformat": 4,
 "nbformat_minor": 2
}
