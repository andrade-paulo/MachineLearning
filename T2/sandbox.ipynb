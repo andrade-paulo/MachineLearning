{
 "cells": [
  {
   "cell_type": "code",
   "execution_count": 1,
   "metadata": {},
   "outputs": [],
   "source": [
    "import pandas as pd\n",
    "import matplotlib.pyplot as plt\n",
    "import numpy as np\n",
    "\n",
    "# Read the data\n",
    "df = pd.read_csv('BRAZIL_CITIES.csv', sep=';', encoding='utf-8')"
   ]
  },
  {
   "cell_type": "code",
   "execution_count": 7,
   "metadata": {},
   "outputs": [
    {
     "name": "stdout",
     "output_type": "stream",
     "text": [
      "(5573, 81)\n"
     ]
    }
   ],
   "source": [
    "# Size\n",
    "print(df.shape)"
   ]
  },
  {
   "cell_type": "code",
   "execution_count": 8,
   "metadata": {},
   "outputs": [
    {
     "data": {
      "text/html": [
       "<div>\n",
       "<style scoped>\n",
       "    .dataframe tbody tr th:only-of-type {\n",
       "        vertical-align: middle;\n",
       "    }\n",
       "\n",
       "    .dataframe tbody tr th {\n",
       "        vertical-align: top;\n",
       "    }\n",
       "\n",
       "    .dataframe thead th {\n",
       "        text-align: right;\n",
       "    }\n",
       "</style>\n",
       "<table border=\"1\" class=\"dataframe\">\n",
       "  <thead>\n",
       "    <tr style=\"text-align: right;\">\n",
       "      <th></th>\n",
       "      <th>CITY</th>\n",
       "      <th>STATE</th>\n",
       "      <th>CAPITAL</th>\n",
       "      <th>IBGE_RES_POP</th>\n",
       "      <th>IBGE_RES_POP_BRAS</th>\n",
       "      <th>IBGE_RES_POP_ESTR</th>\n",
       "      <th>IBGE_DU</th>\n",
       "      <th>IBGE_DU_URBAN</th>\n",
       "      <th>IBGE_DU_RURAL</th>\n",
       "      <th>IBGE_POP</th>\n",
       "      <th>...</th>\n",
       "      <th>Pu_Bank</th>\n",
       "      <th>Pr_Assets</th>\n",
       "      <th>Pu_Assets</th>\n",
       "      <th>Cars</th>\n",
       "      <th>Motorcycles</th>\n",
       "      <th>Wheeled_tractor</th>\n",
       "      <th>UBER</th>\n",
       "      <th>MAC</th>\n",
       "      <th>WAL-MART</th>\n",
       "      <th>POST_OFFICES</th>\n",
       "    </tr>\n",
       "  </thead>\n",
       "  <tbody>\n",
       "    <tr>\n",
       "      <th>725</th>\n",
       "      <td>Borá</td>\n",
       "      <td>SP</td>\n",
       "      <td>0</td>\n",
       "      <td>805.0</td>\n",
       "      <td>805.0</td>\n",
       "      <td>0.0</td>\n",
       "      <td>239.0</td>\n",
       "      <td>187.0</td>\n",
       "      <td>52.0</td>\n",
       "      <td>627.0</td>\n",
       "      <td>...</td>\n",
       "      <td>0.0</td>\n",
       "      <td>19494351.0</td>\n",
       "      <td>0.0</td>\n",
       "      <td>250.0</td>\n",
       "      <td>79.0</td>\n",
       "      <td>0.0</td>\n",
       "      <td>NaN</td>\n",
       "      <td>NaN</td>\n",
       "      <td>NaN</td>\n",
       "      <td>1.0</td>\n",
       "    </tr>\n",
       "  </tbody>\n",
       "</table>\n",
       "<p>1 rows × 81 columns</p>\n",
       "</div>"
      ],
      "text/plain": [
       "     CITY STATE  CAPITAL  IBGE_RES_POP  IBGE_RES_POP_BRAS  IBGE_RES_POP_ESTR  \\\n",
       "725  Borá    SP        0         805.0              805.0                0.0   \n",
       "\n",
       "     IBGE_DU  IBGE_DU_URBAN  IBGE_DU_RURAL  IBGE_POP  ...  Pu_Bank  \\\n",
       "725    239.0          187.0           52.0     627.0  ...      0.0   \n",
       "\n",
       "      Pr_Assets  Pu_Assets   Cars  Motorcycles  Wheeled_tractor  UBER  MAC  \\\n",
       "725  19494351.0        0.0  250.0         79.0              0.0   NaN  NaN   \n",
       "\n",
       "     WAL-MART  POST_OFFICES  \n",
       "725       NaN           1.0  \n",
       "\n",
       "[1 rows x 81 columns]"
      ]
     },
     "execution_count": 8,
     "metadata": {},
     "output_type": "execute_result"
    }
   ],
   "source": [
    "# Min IBGE_RES_POP\n",
    "df[df['IBGE_RES_POP'] == df['IBGE_RES_POP'].min()]"
   ]
  },
  {
   "cell_type": "code",
   "execution_count": 9,
   "metadata": {},
   "outputs": [
    {
     "data": {
      "text/html": [
       "<div>\n",
       "<style scoped>\n",
       "    .dataframe tbody tr th:only-of-type {\n",
       "        vertical-align: middle;\n",
       "    }\n",
       "\n",
       "    .dataframe tbody tr th {\n",
       "        vertical-align: top;\n",
       "    }\n",
       "\n",
       "    .dataframe thead th {\n",
       "        text-align: right;\n",
       "    }\n",
       "</style>\n",
       "<table border=\"1\" class=\"dataframe\">\n",
       "  <thead>\n",
       "    <tr style=\"text-align: right;\">\n",
       "      <th></th>\n",
       "      <th>CITY</th>\n",
       "      <th>STATE</th>\n",
       "      <th>CAPITAL</th>\n",
       "      <th>IBGE_RES_POP</th>\n",
       "      <th>IBGE_RES_POP_BRAS</th>\n",
       "      <th>IBGE_RES_POP_ESTR</th>\n",
       "      <th>IBGE_DU</th>\n",
       "      <th>IBGE_DU_URBAN</th>\n",
       "      <th>IBGE_DU_RURAL</th>\n",
       "      <th>IBGE_POP</th>\n",
       "      <th>...</th>\n",
       "      <th>Pu_Bank</th>\n",
       "      <th>Pr_Assets</th>\n",
       "      <th>Pu_Assets</th>\n",
       "      <th>Cars</th>\n",
       "      <th>Motorcycles</th>\n",
       "      <th>Wheeled_tractor</th>\n",
       "      <th>UBER</th>\n",
       "      <th>MAC</th>\n",
       "      <th>WAL-MART</th>\n",
       "      <th>POST_OFFICES</th>\n",
       "    </tr>\n",
       "  </thead>\n",
       "  <tbody>\n",
       "    <tr>\n",
       "      <th>4856</th>\n",
       "      <td>São Paulo</td>\n",
       "      <td>SP</td>\n",
       "      <td>1</td>\n",
       "      <td>11253503.0</td>\n",
       "      <td>11133776.0</td>\n",
       "      <td>119727.0</td>\n",
       "      <td>3576148.0</td>\n",
       "      <td>3548433.0</td>\n",
       "      <td>27715.0</td>\n",
       "      <td>10463636.0</td>\n",
       "      <td>...</td>\n",
       "      <td>8.0</td>\n",
       "      <td>1.947077e+13</td>\n",
       "      <td>2.893261e+12</td>\n",
       "      <td>5740995.0</td>\n",
       "      <td>1134570.0</td>\n",
       "      <td>3236.0</td>\n",
       "      <td>1.0</td>\n",
       "      <td>130.0</td>\n",
       "      <td>7.0</td>\n",
       "      <td>225.0</td>\n",
       "    </tr>\n",
       "  </tbody>\n",
       "</table>\n",
       "<p>1 rows × 81 columns</p>\n",
       "</div>"
      ],
      "text/plain": [
       "           CITY STATE  CAPITAL  IBGE_RES_POP  IBGE_RES_POP_BRAS  \\\n",
       "4856  São Paulo    SP        1    11253503.0         11133776.0   \n",
       "\n",
       "      IBGE_RES_POP_ESTR    IBGE_DU  IBGE_DU_URBAN  IBGE_DU_RURAL    IBGE_POP  \\\n",
       "4856           119727.0  3576148.0      3548433.0        27715.0  10463636.0   \n",
       "\n",
       "      ...  Pu_Bank     Pr_Assets     Pu_Assets       Cars  Motorcycles  \\\n",
       "4856  ...      8.0  1.947077e+13  2.893261e+12  5740995.0    1134570.0   \n",
       "\n",
       "      Wheeled_tractor  UBER    MAC  WAL-MART  POST_OFFICES  \n",
       "4856           3236.0   1.0  130.0       7.0         225.0  \n",
       "\n",
       "[1 rows x 81 columns]"
      ]
     },
     "execution_count": 9,
     "metadata": {},
     "output_type": "execute_result"
    }
   ],
   "source": [
    "df[df['IBGE_RES_POP'] == df['IBGE_RES_POP'].max()]"
   ]
  },
  {
   "cell_type": "code",
   "execution_count": 11,
   "metadata": {},
   "outputs": [
    {
     "data": {
      "text/html": [
       "<div>\n",
       "<style scoped>\n",
       "    .dataframe tbody tr th:only-of-type {\n",
       "        vertical-align: middle;\n",
       "    }\n",
       "\n",
       "    .dataframe tbody tr th {\n",
       "        vertical-align: top;\n",
       "    }\n",
       "\n",
       "    .dataframe thead th {\n",
       "        text-align: right;\n",
       "    }\n",
       "</style>\n",
       "<table border=\"1\" class=\"dataframe\">\n",
       "  <thead>\n",
       "    <tr style=\"text-align: right;\">\n",
       "      <th></th>\n",
       "      <th>CITY</th>\n",
       "      <th>STATE</th>\n",
       "      <th>CAPITAL</th>\n",
       "      <th>IBGE_RES_POP</th>\n",
       "      <th>IBGE_RES_POP_BRAS</th>\n",
       "      <th>IBGE_RES_POP_ESTR</th>\n",
       "      <th>IBGE_DU</th>\n",
       "      <th>IBGE_DU_URBAN</th>\n",
       "      <th>IBGE_DU_RURAL</th>\n",
       "      <th>IBGE_POP</th>\n",
       "      <th>...</th>\n",
       "      <th>Pu_Bank</th>\n",
       "      <th>Pr_Assets</th>\n",
       "      <th>Pu_Assets</th>\n",
       "      <th>Cars</th>\n",
       "      <th>Motorcycles</th>\n",
       "      <th>Wheeled_tractor</th>\n",
       "      <th>UBER</th>\n",
       "      <th>MAC</th>\n",
       "      <th>WAL-MART</th>\n",
       "      <th>POST_OFFICES</th>\n",
       "    </tr>\n",
       "  </thead>\n",
       "  <tbody>\n",
       "    <tr>\n",
       "      <th>4856</th>\n",
       "      <td>São Paulo</td>\n",
       "      <td>SP</td>\n",
       "      <td>1</td>\n",
       "      <td>11253503.0</td>\n",
       "      <td>11133776.0</td>\n",
       "      <td>119727.0</td>\n",
       "      <td>3576148.0</td>\n",
       "      <td>3548433.0</td>\n",
       "      <td>27715.0</td>\n",
       "      <td>10463636.0</td>\n",
       "      <td>...</td>\n",
       "      <td>8.0</td>\n",
       "      <td>1.947077e+13</td>\n",
       "      <td>2.893261e+12</td>\n",
       "      <td>5740995.0</td>\n",
       "      <td>1134570.0</td>\n",
       "      <td>3236.0</td>\n",
       "      <td>1.0</td>\n",
       "      <td>130.0</td>\n",
       "      <td>7.0</td>\n",
       "      <td>225.0</td>\n",
       "    </tr>\n",
       "  </tbody>\n",
       "</table>\n",
       "<p>1 rows × 81 columns</p>\n",
       "</div>"
      ],
      "text/plain": [
       "           CITY STATE  CAPITAL  IBGE_RES_POP  IBGE_RES_POP_BRAS  \\\n",
       "4856  São Paulo    SP        1    11253503.0         11133776.0   \n",
       "\n",
       "      IBGE_RES_POP_ESTR    IBGE_DU  IBGE_DU_URBAN  IBGE_DU_RURAL    IBGE_POP  \\\n",
       "4856           119727.0  3576148.0      3548433.0        27715.0  10463636.0   \n",
       "\n",
       "      ...  Pu_Bank     Pr_Assets     Pu_Assets       Cars  Motorcycles  \\\n",
       "4856  ...      8.0  1.947077e+13  2.893261e+12  5740995.0    1134570.0   \n",
       "\n",
       "      Wheeled_tractor  UBER    MAC  WAL-MART  POST_OFFICES  \n",
       "4856           3236.0   1.0  130.0       7.0         225.0  \n",
       "\n",
       "[1 rows x 81 columns]"
      ]
     },
     "execution_count": 11,
     "metadata": {},
     "output_type": "execute_result"
    }
   ],
   "source": [
    "df[df['GVA_INDUSTRY'] == df['GVA_INDUSTRY'].max()]"
   ]
  },
  {
   "cell_type": "code",
   "execution_count": 11,
   "metadata": {},
   "outputs": [],
   "source": [
    "data00 = pd.read_csv('ProcessedData/br_cities_00.csv')\n",
    "data01 = pd.read_csv('ProcessedData/br_cities_01.csv')\n",
    "data10 = pd.read_csv('ProcessedData/br_cities_10.csv')\n",
    "data11 = pd.read_csv('ProcessedData/br_cities_11.csv')"
   ]
  },
  {
   "cell_type": "code",
   "execution_count": 12,
   "metadata": {},
   "outputs": [
    {
     "name": "stdout",
     "output_type": "stream",
     "text": [
      "(5489, 35)\n",
      "(5489, 24)\n",
      "(4305, 35)\n",
      "(4305, 24)\n"
     ]
    }
   ],
   "source": [
    "print(data00.shape)\n",
    "print(data01.shape)\n",
    "print(data10.shape)\n",
    "print(data11.shape)"
   ]
  },
  {
   "cell_type": "code",
   "execution_count": 10,
   "metadata": {},
   "outputs": [
    {
     "data": {
      "text/plain": [
       "(5489, 35)"
      ]
     },
     "execution_count": 10,
     "metadata": {},
     "output_type": "execute_result"
    }
   ],
   "source": [
    "without_pca.shape"
   ]
  },
  {
   "cell_type": "code",
   "execution_count": 63,
   "metadata": {},
   "outputs": [
    {
     "data": {
      "image/png": "[encoded data removed]",
      "text/plain": [
       "<Figure size 1000x600 with 1 Axes>"
      ]
     },
     "metadata": {},
     "output_type": "display_data"
    }
   ],
   "source": [
    "res = pd.read_csv('results.csv', sep=';', encoding='utf-8')\n",
    "res.head()\n",
    "\n",
    "# Multiple bars plot \n",
    "\n",
    "# X = Algoritmo\n",
    "# Bars: br_cities_00; br_cities_01; br_cities_10; br_cities_11\n",
    "\n",
    "import matplotlib.pyplot as plt\n",
    "\n",
    "plt.figure(figsize=(10, 6))\n",
    "\n",
    "# set width of bar\n",
    "barWidth = 0.15\n",
    "\n",
    "# set height of bar\n",
    "bars1 = res['br_cities_00']\n",
    "bars2 = res['br_cities_01']\n",
    "bars3 = res['br_cities_10']\n",
    "bars4 = res['br_cities_11']\n",
    "\n",
    "# Set position of bar on X axis\n",
    "r1 = np.arange(len(bars1))\n",
    "r2 = [x + barWidth for x in r1]\n",
    "r3 = [x + barWidth for x in r2]\n",
    "r4 = [x + barWidth for x in r3]\n",
    "\n",
    "# Make the plot\n",
    "plt.bar(r1, bars1, width=barWidth, label='br_cities_00', color='#8BC1F7')\n",
    "plt.bar(r2, bars2, width=barWidth, label='br_cities_01', color='#002F5D')\n",
    "plt.bar(r3, bars3, width=barWidth, label='br_cities_10', color='#519DE9')\n",
    "plt.bar(r4, bars4, width=barWidth, label='br_cities_11', color='#004B95')\n",
    "\n",
    "# Add xticks on the middle of the group bars\n",
    "plt.ylabel('R2', fontweight='bold')\n",
    "plt.xticks([r + barWidth + 0.08 for r in range(len(bars1))], res['Algoritmo'])\n",
    "\n",
    "plt.ylim(0.5, 1)\n",
    "\n",
    "# Create legend & Show graphic\n",
    "plt.legend()\n",
    "plt.show()"
   ]
  },
  {
   "cell_type": "code",
   "execution_count": null,
   "metadata": {},
   "outputs": [],
   "source": []
  },
  {
   "cell_type": "code",
   "execution_count": null,
   "metadata": {},
   "outputs": [],
   "source": []
  }
 ],
 "metadata": {
  "kernelspec": {
   "display_name": "Python 3",
   "language": "python",
   "name": "python3"
  },
  "language_info": {
   "codemirror_mode": {
    "name": "ipython",
    "version": 3
   },
   "file_extension": ".py",
   "mimetype": "text/x-python",
   "name": "python",
   "nbconvert_exporter": "python",
   "pygments_lexer": "ipython3",
   "version": "3.11.9"
  }
 },
 "nbformat": 4,
 "nbformat_minor": 2
}
